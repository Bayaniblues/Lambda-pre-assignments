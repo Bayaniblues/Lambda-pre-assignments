{
  "nbformat": 4,
  "nbformat_minor": 0,
  "metadata": {
    "colab": {
      "name": "Cortez_Ethridge_ASSIGN3",
      "provenance": [],
      "collapsed_sections": [],
      "include_colab_link": true
    },
    "kernelspec": {
      "name": "python3",
      "display_name": "Python 3"
    }
  },
  "cells": [
    {
      "cell_type": "markdown",
      "metadata": {
        "id": "view-in-github",
        "colab_type": "text"
      },
      "source": [
        "<a href=\"https://colab.research.google.com/github/Bayaniblues/Lambda-pre-assignments/blob/master/003-functionspackages\" target=\"_parent\"><img src=\"https://colab.research.google.com/assets/colab-badge.svg\" alt=\"Open In Colab\"/></a>"
      ]
    },
    {
      "cell_type": "markdown",
      "metadata": {
        "id": "ZvNsvUNNlZbi",
        "colab_type": "text"
      },
      "source": [
        "---\n",
        "# Lambda School Data Science - Intro to Python  \n",
        "---\n",
        "# Assignment 03 - Python Functions & Packages\n",
        "---\n",
        "\n"
      ]
    },
    {
      "cell_type": "markdown",
      "metadata": {
        "id": "y8HUQb0OOztX",
        "colab_type": "text"
      },
      "source": [
        "##STOP! BEFORE GOING ANY FURTHER...  \n",
        "\n",
        "\n",
        "1. Click \"File\" at the top.\n",
        "2. Then, \"Save a Copy in Drive.\"\n",
        "3. Change the file name to \"FIRSTNAME_LASTNAME_assign3\"  \n",
        "\n",
        "Now you have a copy of this notebook in your Drive account. This is the copy you'll edit and submit. Be sure to do this for ***every*** assignment!\n",
        "\n",
        "---\n"
      ]
    },
    {
      "cell_type": "markdown",
      "metadata": {
        "id": "o57NvhYkBjKH",
        "colab_type": "text"
      },
      "source": [
        "## Part 1: Functions\n",
        "\n",
        "In lecture, we learned that functions are used for many different purposes in Python: to store variables, to execute the same code block numerous times, and to group code in a sub-program to reduce complexity in your program."
      ]
    },
    {
      "cell_type": "markdown",
      "metadata": {
        "id": "xMq6Of2Gt24o",
        "colab_type": "text"
      },
      "source": [
        "### Built-in functions\n",
        "\n",
        "These types of function are standard in Python; you don't need to install any particular libraries or packages in order to use them.\n",
        "\n",
        "Let's test out some of these built-in functions. Run the cell below to create the list `x` that you will practice with."
      ]
    },
    {
      "cell_type": "code",
      "metadata": {
        "id": "h3r0IvHVuGJb",
        "colab_type": "code",
        "colab": {}
      },
      "source": [
        "# DO NOT EDIT THIS CELL\n",
        "# Run this cell to create the list\n",
        "\n",
        "x = [\"a\", \"b\", \"c\", \"d\", \"e\", \"f\"]"
      ],
      "execution_count": 0,
      "outputs": []
    },
    {
      "cell_type": "markdown",
      "metadata": {
        "id": "4haXpvn1QXW_",
        "colab_type": "text"
      },
      "source": [
        "### 1.1 For the list created above, determine or complete the following:\n",
        "\n",
        "*   maximum  - save as `biggest`\n",
        "*   minimum - save as `smallest`\n",
        "*   number of elements in the list - save as `num`\n",
        "*   sort the list in _descending_ order - save as `reversed`\n",
        "\n"
      ]
    },
    {
      "cell_type": "code",
      "metadata": {
        "id": "j79FBPrS3TFS",
        "colab_type": "code",
        "outputId": "d97f838c-3eac-4c5b-e416-2735a1ae679c",
        "colab": {
          "base_uri": "https://localhost:8080/",
          "height": 36
        }
      },
      "source": [
        "biggest = max(x)\n",
        "smallest = min(x)\n",
        "num = len(x)\n",
        "x_sort = sorted(x, reverse=True)\n",
        "\n",
        "print(biggest, smallest, num, reversed)"
      ],
      "execution_count": 0,
      "outputs": [
        {
          "output_type": "stream",
          "text": [
            "f a 6 ['f', 'e', 'd', 'c', 'b', 'a']\n"
          ],
          "name": "stdout"
        }
      ]
    },
    {
      "cell_type": "markdown",
      "metadata": {
        "id": "cYY_xr0IDBp1",
        "colab_type": "text"
      },
      "source": [
        "### Solution 1.1: Run the cell below to check your answer."
      ]
    },
    {
      "cell_type": "code",
      "metadata": {
        "id": "JfK-KXSjDT52",
        "colab_type": "code",
        "colab": {}
      },
      "source": [
        "# DO NOT EDIT THIS CELL\n",
        "# SOLUTION 1.1\n",
        "\n",
        "# Check that each variable exists\n",
        "assert biggest; assert smallest\n",
        "assert num; assert x_sort\n",
        "\n",
        "# Check the value of each variable\n",
        "assert biggest == max(x), \"Your maximum is incorrect.\"\n",
        "assert smallest == min(x), \"Your minimum is incorrect.\"\n",
        "assert num == len(x), \"Your list length is incorrect.\"\n",
        "assert x_sort == sorted(x, reverse=True), \"Your list isn't sorted correctly.\""
      ],
      "execution_count": 0,
      "outputs": []
    },
    {
      "cell_type": "markdown",
      "metadata": {
        "id": "zqzzZomJ0IKf",
        "colab_type": "text"
      },
      "source": [
        "### Methods\n",
        "\n",
        "Remember that everything in Python is an ***object***. An object has a ***type***, and each type has ***methods*** that apply only to that type. Let's practice with the two types of methods we saw in lecture: list and string methods."
      ]
    },
    {
      "cell_type": "markdown",
      "metadata": {
        "id": "8EYDz3UtQflV",
        "colab_type": "text"
      },
      "source": [
        "### 1.2 List methods\n",
        "\n",
        "Using the same list `x` that was created above, complete the following tasks:\n",
        "\n",
        "*  make a copy of `x` and call it `x_new` (hint: use the `copy` method)\n",
        "*  remove the second to last element of `x_new`\n",
        "*  add the letter \"z\" to the list `x_new`\n",
        "*  make a copy of the list (assign `x_new` to `x_copy`)\n",
        "*  empty out the list `x_copy`\n"
      ]
    },
    {
      "cell_type": "code",
      "metadata": {
        "id": "HOf18kjSQjZM",
        "colab_type": "code",
        "outputId": "98f18d4a-8c2b-4dbb-8271-4a7ea6bb5591",
        "colab": {
          "base_uri": "https://localhost:8080/",
          "height": 54
        }
      },
      "source": [
        "# Re-initialize the list (this is the same as above)\n",
        "# DO NOT EDIT THIS LINE\n",
        "x = [\"a\", \"b\", \"c\", \"d\", \"e\", \"f\"]\n",
        "\n",
        "# Write the code to complete your tasks below:\n",
        "\n",
        "# Make a copy of x called x_new and remove the second to last element\n",
        "x_new = x\n",
        "x_new.pop(-2)\n",
        "\n",
        "# Add the letter \"z\" to x_new\n",
        "x_new.append(\"z\")\n",
        "\n",
        "# Make a copy (x_copy) and an empty x_copy\n",
        "x_copy = x_new.copy()\n",
        "x_copy.clear()\n",
        "\n",
        "print(x_new)\n",
        "print(x_copy)"
      ],
      "execution_count": 0,
      "outputs": [
        {
          "output_type": "stream",
          "text": [
            "['a', 'b', 'c', 'd', 'f', 'z']\n",
            "[]\n"
          ],
          "name": "stdout"
        }
      ]
    },
    {
      "cell_type": "markdown",
      "metadata": {
        "id": "BPRTlZ9QKWqj",
        "colab_type": "text"
      },
      "source": [
        "### Solution 1.2: Run the following cell to check your answer"
      ]
    },
    {
      "cell_type": "code",
      "metadata": {
        "id": "WQSzHb_mKcxm",
        "colab_type": "code",
        "colab": {}
      },
      "source": [
        "# DO NOT EDIT THIS CELL\n",
        "# SOLUTION 1.2\n",
        "\n",
        "# Check the contents of x_new\n",
        "assert x_new == ['a', 'b', 'c', 'd', 'f', 'z'], \"Your list isn't correct\"\n",
        "assert x_copy == [], \"Your list isn't empty\""
      ],
      "execution_count": 0,
      "outputs": []
    },
    {
      "cell_type": "markdown",
      "metadata": {
        "id": "wTJ29ehV4aEA",
        "colab_type": "text"
      },
      "source": [
        "### 1.3 String methods\n",
        "\n",
        "Strings are used a lot in Python and it's a good idea to know how to manipulate them. For the string provided below, complete the following tasks (make sure to assign the result of each task to `y`):\n",
        "\n",
        "* capitalize the entire string\n",
        "* split the string at every empty space\n",
        "* print out your string to check if it's correct"
      ]
    },
    {
      "cell_type": "code",
      "metadata": {
        "id": "eoKEv5uS4w29",
        "colab_type": "code",
        "outputId": "70a5ac45-4eba-45c3-91bc-3a1de43758c3",
        "colab": {
          "base_uri": "https://localhost:8080/",
          "height": 36
        }
      },
      "source": [
        "# Create a string\n",
        "# DO NOT EDIT THIS LINE\n",
        "y = \"to thine own self be true, and it must follow, as the night the day, thou canst not then be false to any man.\"\n",
        "\n",
        "# Write the code to complete your tasks below:\n",
        "\n",
        "# capitalize the entire string\n",
        "y = y.capitalize()\n",
        "\n",
        "# split the string at every empty space\n",
        "y = y.split()\n",
        "\n",
        "# print out your string to check if it's correct\n",
        "print(y)\n"
      ],
      "execution_count": 0,
      "outputs": [
        {
          "output_type": "stream",
          "text": [
            "['To', 'thine', 'own', 'self', 'be', 'true,', 'and', 'it', 'must', 'follow,', 'as', 'the', 'night', 'the', 'day,', 'thou', 'canst', 'not', 'then', 'be', 'false', 'to', 'any', 'man.']\n"
          ],
          "name": "stdout"
        }
      ]
    },
    {
      "cell_type": "markdown",
      "metadata": {
        "id": "bENektnx0nRx",
        "colab_type": "text"
      },
      "source": [
        "### Solution 1.3: Run the following cell to check your answer."
      ]
    },
    {
      "cell_type": "code",
      "metadata": {
        "id": "8qE9y4D-0n1P",
        "colab_type": "code",
        "colab": {}
      },
      "source": [
        "# DO NOT EDIT THIS CELL\n",
        "# SOLUTION 1.3\n",
        "\n",
        "# Check that y is capitalized (first character in the string)\n",
        "assert y[0] == 'To', \"Your string isn't correctly capitalized.\"\n",
        "# Check the length of the string\n",
        "assert len(y) == 24, \"Your string hasn't be split on each word\""
      ],
      "execution_count": 0,
      "outputs": []
    },
    {
      "cell_type": "markdown",
      "metadata": {
        "id": "B5hfG_xs0fp0",
        "colab_type": "text"
      },
      "source": [
        "### Custom Functions\n",
        "\n",
        "These functions are sometimes called *user-defined functions*. They are created to make it easier to execute a block or chunk of code multiple times. Using functions also makes your code more readable because you don't need to repeat the code within the function again.\n",
        "\n",
        "A function should always include a docstring which includes the information about what the function does, what arguments it takes, and what it returns. [Here is some more information](https://realpython.com/documenting-python-code/) about documentation in Python, including docstrings.\n",
        "\n",
        "Let's practice by creating a function!\n"
      ]
    },
    {
      "cell_type": "markdown",
      "metadata": {
        "id": "SrhmB_rj0rhB",
        "colab_type": "text"
      },
      "source": [
        "### 1.4 Create a function that returns the sum of two numbers.\n",
        "\n",
        "Call your function `mysum` and make sure to include a one-line docstring. After you create your function, try it out! Give it two numbers and make sure it returns the correct sum."
      ]
    },
    {
      "cell_type": "code",
      "metadata": {
        "id": "snTXP3DI0qTX",
        "colab_type": "code",
        "outputId": "3ebf62a6-a801-41c4-ef7f-8132664d8285",
        "colab": {
          "base_uri": "https://localhost:8080/",
          "height": 36
        }
      },
      "source": [
        "# Write your function below. Make sure to include a docstring.\n",
        "\n",
        "mysum = lambda x, y: x + y\n",
        "\n",
        "# Call your function! Check that it returns the correct sum.\n",
        "print(mysum(5, 5))\n"
      ],
      "execution_count": 0,
      "outputs": [
        {
          "output_type": "stream",
          "text": [
            "10\n"
          ],
          "name": "stdout"
        }
      ]
    },
    {
      "cell_type": "markdown",
      "metadata": {
        "id": "Mcas6uQlwPrp",
        "colab_type": "text"
      },
      "source": [
        "### Solution 1.4: Run the following cell to check your answer."
      ]
    },
    {
      "cell_type": "code",
      "metadata": {
        "id": "8k4swDf5wRcB",
        "colab_type": "code",
        "colab": {}
      },
      "source": [
        "# DO NOT EDIT THIS CELL\n",
        "# SOLUTION 1.4\n",
        "\n",
        "# Check the results of mysum\n",
        "assert mysum(1,1) == 2, \"You function doesn't return the sum of two numbers.\""
      ],
      "execution_count": 0,
      "outputs": []
    },
    {
      "cell_type": "markdown",
      "metadata": {
        "id": "YcEwAg9w6PDQ",
        "colab_type": "text"
      },
      "source": [
        "### 1.5 Create a function that returns the average of a list of numbers. \n",
        "\n",
        "Call this function `numave`. This function will take a list of numbers as an argument and will return a single value (the average)."
      ]
    },
    {
      "cell_type": "code",
      "metadata": {
        "id": "CM4cRycq6PTC",
        "colab_type": "code",
        "outputId": "4f963784-9baa-4244-9496-31c98935b2c1",
        "colab": {
          "base_uri": "https://localhost:8080/",
          "height": 36
        }
      },
      "source": [
        "# Write your function below:\n",
        "\n",
        "numave = lambda mylist : sum(mylist) / len(mylist)\n",
        "\n",
        "# Call your function and verify that it completes the task.\n",
        "print(numave([10, 20, 30, 40, 50]))\n"
      ],
      "execution_count": 0,
      "outputs": [
        {
          "output_type": "stream",
          "text": [
            "30.0\n"
          ],
          "name": "stdout"
        }
      ]
    },
    {
      "cell_type": "markdown",
      "metadata": {
        "id": "Wh2FXFkLxZEi",
        "colab_type": "text"
      },
      "source": [
        "### Solution 1.5: Run the following cell to check your answer."
      ]
    },
    {
      "cell_type": "code",
      "metadata": {
        "id": "uqX9Rs7ixZtX",
        "colab_type": "code",
        "colab": {}
      },
      "source": [
        "# DO NOT EDIT THIS CELL\n",
        "# SOLUTION 1.5\n",
        "\n",
        "# Check the results of the function\n",
        "assert numave([1,1,1,1,1]) == 1, \"Your function doesn't return the correct average.\""
      ],
      "execution_count": 0,
      "outputs": []
    },
    {
      "cell_type": "markdown",
      "metadata": {
        "id": "PDLwYCAn6PbL",
        "colab_type": "text"
      },
      "source": [
        "### 1.6 Create a function that returns a capitalized and reversed string.\n",
        "\n",
        "Call this function `capreverse`. It will have a string as an argument and return that string capitalized and reversed. For example, \"string\" would be returned at \"gnirtS\"."
      ]
    },
    {
      "cell_type": "code",
      "metadata": {
        "id": "lp412i2e6PiN",
        "colab_type": "code",
        "outputId": "9666e05e-6a31-4656-dbd8-903d929aed5a",
        "colab": {
          "base_uri": "https://localhost:8080/",
          "height": 36
        }
      },
      "source": [
        "# Write your function below:\n",
        "# list.sort(key=lambda x: x.count(' '), reverse=True)\n",
        "reverseme = lambda x : x[::-1]\n",
        "\n",
        "def capreverse(mystring):\n",
        "  string = mystring\n",
        "  cap = string.capitalize()\n",
        "  return reverseme(cap)\n",
        "# Call your function and versify that it completes the task\n",
        "\n",
        "capreverse(\"taco cat\")\n"
      ],
      "execution_count": 0,
      "outputs": [
        {
          "output_type": "execute_result",
          "data": {
            "text/plain": [
              "'tac ocaT'"
            ]
          },
          "metadata": {
            "tags": []
          },
          "execution_count": 180
        }
      ]
    },
    {
      "cell_type": "markdown",
      "metadata": {
        "id": "q_6I0TVbseld",
        "colab_type": "text"
      },
      "source": [
        "### Solution 1.6: Run the following cell to check your answer."
      ]
    },
    {
      "cell_type": "code",
      "metadata": {
        "id": "FkVGNF0mzND8",
        "colab_type": "code",
        "colab": {}
      },
      "source": [
        "# DO NOT EDIT THIS CELL\n",
        "# SOLUTION 1.6\n",
        "\n",
        "# Check the results of the function\n",
        "assert capreverse(\"taco cat\") == \"tac ocaT\", \"Your function doesn't return a capitalized and reverse-order string.\""
      ],
      "execution_count": 0,
      "outputs": []
    },
    {
      "cell_type": "markdown",
      "metadata": {
        "id": "MHeit5A_6Pot",
        "colab_type": "text"
      },
      "source": [
        "### 1.7 Create a function to concatenate a list of strings, with proper spacing.\n",
        "\n",
        "Name this function `catstring`. It will take a list of strings as an argument and return a single list.\n",
        "\n"
      ]
    },
    {
      "cell_type": "code",
      "metadata": {
        "id": "nHA4Rg6W6Puu",
        "colab_type": "code",
        "outputId": "1dfd7eb3-a924-486a-d800-7287de6a12bc",
        "colab": {
          "base_uri": "https://localhost:8080/",
          "height": 36
        }
      },
      "source": [
        "# Write your function below:\n",
        "catstring = lambda x : \" \".join(x)\n",
        "\n",
        "# Call your function and versify that it completes the task\n",
        "test_list = ['combine', 'this', 'list']\n",
        "catstring(test_list)"
      ],
      "execution_count": 0,
      "outputs": [
        {
          "output_type": "execute_result",
          "data": {
            "text/plain": [
              "'combine this list'"
            ]
          },
          "metadata": {
            "tags": []
          },
          "execution_count": 182
        }
      ]
    },
    {
      "cell_type": "markdown",
      "metadata": {
        "id": "QekYCDgC076o",
        "colab_type": "text"
      },
      "source": [
        "### Solution 1.7: Run the following cell to check your answer."
      ]
    },
    {
      "cell_type": "code",
      "metadata": {
        "id": "AcSypFOU0_0e",
        "colab_type": "code",
        "colab": {}
      },
      "source": [
        "# DO NOT EDIT THIS CELL\n",
        "# SOLUTION 1.7\n",
        "\n",
        "# Check the results of the function with a test string\n",
        "test_list = ['combine', 'this', 'list']\n",
        "assert catstring(test_list) == 'combine this list'"
      ],
      "execution_count": 0,
      "outputs": []
    },
    {
      "cell_type": "markdown",
      "metadata": {
        "id": "GFpCBnZolyWY",
        "colab_type": "text"
      },
      "source": [
        "---\n",
        "## Part 2: Packages\n",
        "\n",
        "As we saw in lecture, if you need to do something specific that isn't included in the standard Python libraries, there's a package for that! For these next few problems, let's explore some of the more commonly used packages."
      ]
    },
    {
      "cell_type": "markdown",
      "metadata": {
        "id": "_sq5HypwyvXS",
        "colab_type": "text"
      },
      "source": [
        "### 2.1 Using the `random` library\n",
        "\n",
        "Import the `random` library and use it to create a list of ten random numbers between 0-50. Call your list `mylist`. \n",
        "\n",
        "There are several ways to do this. Feel free to Google around and find one that you can replicate here. You can write a function, use a for loop, try out a list comprehension, etc."
      ]
    },
    {
      "cell_type": "code",
      "metadata": {
        "id": "XD5JruLw1wv4",
        "colab_type": "code",
        "outputId": "fa71bd18-1f06-4d07-8c47-4fb3638d5a55",
        "colab": {
          "base_uri": "https://localhost:8080/",
          "height": 36
        }
      },
      "source": [
        "# Import your library and then create your list of random numbers\n",
        "import random\n",
        "\n",
        "# Using a for loop (there are other ways to do this)\n",
        "mylist = []\n",
        "\n",
        "for x in range(0,10):\n",
        "  mylist.append(random.randrange(1, 50, 2))\n",
        "\n",
        "print(mylist)\n",
        "# Print and/or verify the values in your list\n"
      ],
      "execution_count": 0,
      "outputs": [
        {
          "output_type": "stream",
          "text": [
            "[35, 43, 13, 7, 37, 35, 7, 47, 37, 41]\n"
          ],
          "name": "stdout"
        }
      ]
    },
    {
      "cell_type": "markdown",
      "metadata": {
        "id": "y1SrdqP_Di17",
        "colab_type": "text"
      },
      "source": [
        "### Solution 2.1: Run the following cell to check your answer."
      ]
    },
    {
      "cell_type": "code",
      "metadata": {
        "id": "COOXO81kDjZm",
        "colab_type": "code",
        "colab": {}
      },
      "source": [
        "# DO NOT EDIT THIS CELL\n",
        "# SOLUTION 2.1\n",
        "\n",
        "# Check that there are ten numbers between 0 and 50\n",
        "assert len(mylist) == 10, \"Your list doesn't have 10 numbers\"\n",
        "assert min(mylist) >= 0, \"Some of your numbers are < 0\"\n",
        "assert max(mylist) <= 50, \"Some of your numbers are > 50\""
      ],
      "execution_count": 0,
      "outputs": []
    },
    {
      "cell_type": "markdown",
      "metadata": {
        "colab_type": "text",
        "id": "S_-lYWqF1P3_"
      },
      "source": [
        "### 2.2 Working with `numpy`\n",
        "\n",
        "Time to work with the `numpy` library! You will become very familiar with this library soon. We'll import `numpy` and assign it the standard alias `np`. \n",
        "\n",
        "Then using `numpy`, change the list of random numbers you generated above into a `numpy` array. Call this new object `myarray`."
      ]
    },
    {
      "cell_type": "code",
      "metadata": {
        "id": "z06r0lKJl04z",
        "colab_type": "code",
        "outputId": "7b7ac3f3-de2f-4814-afe4-759860f6ab2d",
        "colab": {
          "base_uri": "https://localhost:8080/",
          "height": 36
        }
      },
      "source": [
        "# Import your library and then turn your list into a numpy array\n",
        "import numpy as np\n",
        "myarray = np.array(mylist)\n",
        "\n",
        "# Print out the type of the object to verify it's an array\n",
        "print(myarray)"
      ],
      "execution_count": 0,
      "outputs": [
        {
          "output_type": "stream",
          "text": [
            "[35 43 13  7 37 35  7 47 37 41]\n"
          ],
          "name": "stdout"
        }
      ]
    },
    {
      "cell_type": "markdown",
      "metadata": {
        "id": "dSExeGFgGNWE",
        "colab_type": "text"
      },
      "source": [
        "### Solution 2.2: Run the following cell to check your answer."
      ]
    },
    {
      "cell_type": "code",
      "metadata": {
        "id": "k0CHSuZXGOQR",
        "colab_type": "code",
        "colab": {}
      },
      "source": [
        "# DO NOT EDIT THIS CELL\n",
        "# SOLUTION 2.2\n",
        "\n",
        "# Verify the array is a numpy array\n",
        "assert isinstance(myarray, np.ndarray), \"Your array isn't a numpy array\""
      ],
      "execution_count": 0,
      "outputs": []
    },
    {
      "cell_type": "markdown",
      "metadata": {
        "id": "Q1E9d9Uq08U-",
        "colab_type": "text"
      },
      "source": [
        "### 2.3 Calculate the mean of the `numpy` array. \n",
        "\n",
        "Use one of the `numpy` methods to calculate the mean of the array you created above. Set the mean equal to the variable `myarray_mean`.\n",
        "\n",
        "A list of `numpy` methods can be found [here](https://docs.scipy.org/doc/numpy/reference/generated/numpy.ndarray.html).\n"
      ]
    },
    {
      "cell_type": "code",
      "metadata": {
        "id": "Egm3s6S91Ann",
        "colab_type": "code",
        "outputId": "7a050aaf-9567-43f5-c14c-c7bba7ec8bc1",
        "colab": {
          "base_uri": "https://localhost:8080/",
          "height": 36
        }
      },
      "source": [
        "# Calculate the mean of your array and call it myarray_mean\n",
        "\n",
        "myarray_mean = np.mean(myarray)\n",
        "print(myarray_mean)"
      ],
      "execution_count": 0,
      "outputs": [
        {
          "output_type": "stream",
          "text": [
            "30.2\n"
          ],
          "name": "stdout"
        }
      ]
    },
    {
      "cell_type": "markdown",
      "metadata": {
        "id": "W75-Q6Vop95h",
        "colab_type": "text"
      },
      "source": [
        "### Solution 2.3: Run the following cell to check your answer."
      ]
    },
    {
      "cell_type": "code",
      "metadata": {
        "id": "TIYIChL-qGrV",
        "colab_type": "code",
        "colab": {}
      },
      "source": [
        "# DO NOT EDIT THIS CELL\n",
        "# SOLUTION 2.3\n",
        "\n",
        "# Check the result\n",
        "assert myarray_mean == myarray.mean(), \"Your calculation is incorrect.\""
      ],
      "execution_count": 0,
      "outputs": []
    },
    {
      "cell_type": "markdown",
      "metadata": {
        "id": "afcMEFCGrROJ",
        "colab_type": "text"
      },
      "source": [
        "### 2.4 Sum the array.\n",
        "\n",
        "Another `numpy` method that you'll likely use is `sum`. Try out this method using the array you created above. Call your sorted array `myarrray_sum`.\n",
        "\n",
        "Refer to [this list of methods](https://docs.scipy.org/doc/numpy/reference/generated/numpy.ndarray.html) to get help on how to use them; scroll down to find `sum`."
      ]
    },
    {
      "cell_type": "code",
      "metadata": {
        "id": "qyzvKevnr-cf",
        "colab_type": "code",
        "outputId": "6dff42af-abfe-4ef1-cf14-b9bbac5da9f8",
        "colab": {
          "base_uri": "https://localhost:8080/",
          "height": 36
        }
      },
      "source": [
        "# Use a numpy method to sum the values in the array\n",
        "\n",
        "myarray_sum = np.sum(myarray)\n",
        "print(myarray_sum)"
      ],
      "execution_count": 0,
      "outputs": [
        {
          "output_type": "stream",
          "text": [
            "302\n"
          ],
          "name": "stdout"
        }
      ]
    },
    {
      "cell_type": "markdown",
      "metadata": {
        "id": "oXF85Y2oArEs",
        "colab_type": "text"
      },
      "source": [
        "### Solution 2.4: Run the following cell to check your answer."
      ]
    },
    {
      "cell_type": "code",
      "metadata": {
        "id": "GBhV6ClzAwDW",
        "colab_type": "code",
        "colab": {}
      },
      "source": [
        "# DO NOT EDIT THIS CELL\n",
        "# SOLUTION 2.4\n",
        "\n",
        "# Verify the sum was calculated correctly\n",
        "assert myarray_sum == myarray.sum(), \"The sum of your array isn't correct\""
      ],
      "execution_count": 0,
      "outputs": []
    },
    {
      "cell_type": "markdown",
      "metadata": {
        "id": "BEXzJ3DWy3MF",
        "colab_type": "text"
      },
      "source": [
        "### Have some fun! Python Easter Egg\n",
        "\n",
        "Programming can be fun! Not all of the packages we use need to relate to math, statistics, and data (those subjects are fun, though). \n",
        "\n",
        "In the cell below, run the following command and see what happens :)\n",
        "`import this`\n",
        "\n",
        "(if nothing is preinted in the cell, from the menu try selecting *Runtime > Restart and run all...*)\n"
      ]
    },
    {
      "cell_type": "code",
      "metadata": {
        "id": "M3oNCZv-zkpZ",
        "colab_type": "code",
        "colab": {}
      },
      "source": [
        "import this\n"
      ],
      "execution_count": 0,
      "outputs": []
    },
    {
      "cell_type": "markdown",
      "metadata": {
        "id": "qVG_ZZyfTjyB",
        "colab_type": "text"
      },
      "source": [
        "\n",
        "---\n",
        "### Submit your assignment notebook! (Make sure you've changed the name to FIRSTNAME_LASTNAME_assign2): \n",
        "\n",
        "1.  Click the Share button in the upper-right hand corner of the notebook.\n",
        "2.  Get the shareable link.\n",
        "3.  Set condition to: \"Anyone with the link can comment.\"\n",
        "\n",
        "---\n"
      ]
    }
  ]
}