{
  "nbformat": 4,
  "nbformat_minor": 0,
  "metadata": {
    "colab": {
      "name": "Cortez_Ethridge_assign1",
      "provenance": [],
      "collapsed_sections": [],
      "include_colab_link": true
    },
    "kernelspec": {
      "name": "python3",
      "display_name": "Python 3"
    }
  },
  "cells": [
    {
      "cell_type": "markdown",
      "metadata": {
        "id": "view-in-github",
        "colab_type": "text"
      },
      "source": [
        "<a href=\"https://colab.research.google.com/github/Bayaniblues/Lambda-pre-assignments/blob/master/001-variables\" target=\"_parent\"><img src=\"https://colab.research.google.com/assets/colab-badge.svg\" alt=\"Open In Colab\"/></a>"
      ]
    },
    {
      "cell_type": "markdown",
      "metadata": {
        "id": "ZvNsvUNNlZbi",
        "colab_type": "text"
      },
      "source": [
        "---\n",
        "# Lambda School Data Science - Intro to Python  \n",
        "---\n",
        "# Assignment 01 - Python Variables & Data Types\n",
        "\n",
        "\n",
        "---\n",
        "\n"
      ]
    },
    {
      "cell_type": "markdown",
      "metadata": {
        "id": "y8HUQb0OOztX",
        "colab_type": "text"
      },
      "source": [
        "##STOP! BEFORE GOING ANY FURTHER...  \n",
        "\n",
        "\n",
        "1. Click \"File\" at the top.\n",
        "2. Then, \"Save a Copy in Drive.\"\n",
        "3. Change the file name to \"FIRSTNAME_LASTNAME_assign1\"  \n",
        "\n",
        "Now you have a copy of this notebook in your Drive account. This is the copy you'll edit and submit. Be sure to do this for ***every*** assignment!\n"
      ]
    },
    {
      "cell_type": "markdown",
      "metadata": {
        "id": "o57NvhYkBjKH",
        "colab_type": "text"
      },
      "source": [
        "## Part 1: Variables\n"
      ]
    },
    {
      "cell_type": "code",
      "metadata": {
        "id": "hbehZlBhD6xb",
        "colab_type": "code",
        "colab": {}
      },
      "source": [
        ""
      ],
      "execution_count": 0,
      "outputs": []
    },
    {
      "cell_type": "markdown",
      "metadata": {
        "id": "4haXpvn1QXW_",
        "colab_type": "text"
      },
      "source": [
        "### 1.1 Create three numerical variables (ints and/or floats). At least one of your variables should have a negative value. Then add the three variables together.\n",
        "\n",
        "Name your variables `a`, `b`, and `c`. The sum should be named `sum_abc`. And also note that variables are case sensitive so make sure to name them exactly as listed above."
      ]
    },
    {
      "cell_type": "code",
      "metadata": {
        "id": "fAT1PiQCnIxZ",
        "colab_type": "code",
        "outputId": "a93369b4-a2a9-463b-c048-26ce9a48b4f8",
        "colab": {
          "base_uri": "https://localhost:8080/",
          "height": 36
        }
      },
      "source": [
        "# Make sure to run this cell after you have created your variables!\n",
        "\n",
        "a = 1\n",
        "b = 2\n",
        "c = -3\n",
        "\n",
        "sum_abc = a + b + c\n",
        "\n",
        "print(sum_abc)"
      ],
      "execution_count": 0,
      "outputs": [
        {
          "output_type": "stream",
          "text": [
            "0\n"
          ],
          "name": "stdout"
        }
      ]
    },
    {
      "cell_type": "markdown",
      "metadata": {
        "id": "Gc5E7JApn9wV",
        "colab_type": "text"
      },
      "source": [
        "### Solution 1.1: Run the cell below to check your answer\n",
        "\n",
        "(**DO NOT** change anything in this cell; it's to help you check your answer!)"
      ]
    },
    {
      "cell_type": "code",
      "metadata": {
        "id": "PweN-CTws2EV",
        "colab_type": "code",
        "outputId": "a7a9bf16-28c3-4776-c3e4-dcf2a6179f16",
        "colab": {
          "base_uri": "https://localhost:8080/",
          "height": 36
        }
      },
      "source": [
        "# DO NOT EDIT THIS CELL\n",
        "# Solution 1.1\n",
        "\n",
        "# Check to see that the variables exist\n",
        "assert a; assert b; assert c\n",
        "\n",
        "# Check for at least one negative variable\n",
        "assert not (a >= 0 and b >= 0 and c >=0), 'One of your variables should be negative.'\n",
        "\n",
        "# Check the sum of the variables\n",
        "assert (sum_abc == a + b + c ), \"Check the sum of your variables.\"\n",
        "\n",
        "print(\"Your variables and sum are correct.\")"
      ],
      "execution_count": 0,
      "outputs": [
        {
          "output_type": "stream",
          "text": [
            "Your variables and sum are correct.\n"
          ],
          "name": "stdout"
        }
      ]
    },
    {
      "cell_type": "markdown",
      "metadata": {
        "id": "QSk1zFf4Qbzk",
        "colab_type": "text"
      },
      "source": [
        "### 1.2 Write a sentence in five parts, assign each part to a variable, then concatenate them all together. Account for spacing!\n",
        "\n",
        "Name the parts of your sentence as follows: `part1`, `part2`, `part3`, `part4`, and `part5`. The concatenated sentence should be stored in the variable: `complete`."
      ]
    },
    {
      "cell_type": "code",
      "metadata": {
        "id": "i-d3b4fqQe9z",
        "colab_type": "code",
        "outputId": "a60ac6eb-c215-44e9-9fbd-01422397e608",
        "colab": {
          "base_uri": "https://localhost:8080/",
          "height": 36
        }
      },
      "source": [
        "part1 = \"Hello I am part1. \"\n",
        "part2 = \"Hello I am part2. \"\n",
        "part3 = \"Hello I am part3. \"\n",
        "part4 = \"Hello I am part4. \"\n",
        "part5 = \"Hello I am part5. \"\n",
        "\n",
        "complete = part1 + part2 + part3 + part4 + part5\n",
        "print(complete)"
      ],
      "execution_count": 0,
      "outputs": [
        {
          "output_type": "stream",
          "text": [
            "Hello I am part1. Hello I am part2. Hello I am part3. Hello I am part4. Hello I am part5. \n"
          ],
          "name": "stdout"
        }
      ]
    },
    {
      "cell_type": "markdown",
      "metadata": {
        "id": "5F0BeOmWjArC",
        "colab_type": "text"
      },
      "source": [
        "### Solution 1.2: Run the cell below to check your answer"
      ]
    },
    {
      "cell_type": "code",
      "metadata": {
        "id": "WkOmfdqBjORh",
        "colab_type": "code",
        "outputId": "085b8e17-cde3-48eb-f24b-cfee810b8a57",
        "colab": {
          "base_uri": "https://localhost:8080/",
          "height": 36
        }
      },
      "source": [
        "# DO NOT EDIT THIS CELL\n",
        "# Solution 1.2\n",
        "\n",
        "# Check if all parts of the sentence were stored as variables\n",
        "assert part1; assert part2; assert part3; assert part4; assert part5\n",
        "\n",
        "# Check to see if all parts are in the concatenated sentence\n",
        "parts = (part1, part2, part3, part4, part5)\n",
        "parts_check = all(x in complete for x in parts)\n",
        "assert parts_check, 'A part of your sentence is missing.'\n",
        "\n",
        "print('Your sentence is correct.')"
      ],
      "execution_count": 0,
      "outputs": [
        {
          "output_type": "stream",
          "text": [
            "Your sentence is correct.\n"
          ],
          "name": "stdout"
        }
      ]
    },
    {
      "cell_type": "markdown",
      "metadata": {
        "id": "M6L5GHLeIA8B",
        "colab_type": "text"
      },
      "source": [
        "### 1.3 Let's practice adding together variables of different types. \n",
        "\n",
        "Create a string variable named `mystring` and a float called `myfloat`. For example, your string could state \"The value of pi is about: \" and your float variable would be the answer, `3.14159`. Choose any mathematical constant you like.\n",
        "\n",
        "Then, in order to concatenate them, we need to convert the float to a string. Use the `str()` method to convert the float and name the new variable `myfloat_str`.\n",
        "\n",
        "Concatenate `mystring` and `myfloat_str` and name the resulting variable `mynewstring`."
      ]
    },
    {
      "cell_type": "code",
      "metadata": {
        "id": "XuUqVXpc8Apo",
        "colab_type": "code",
        "outputId": "ffc8eec5-78e4-4282-ef74-d718bfd5f890",
        "colab": {
          "base_uri": "https://localhost:8080/",
          "height": 36
        }
      },
      "source": [
        "mystring = \"The fibonacci of 50 is \"\n",
        "myfloat = 12586269025.0\n",
        "myfloat_str = str(myfloat)\n",
        "mynewstring = mystring + myfloat_str\n",
        "print(mynewstring)"
      ],
      "execution_count": 0,
      "outputs": [
        {
          "output_type": "stream",
          "text": [
            "The fibonacci of 50 is 12586269025.0\n"
          ],
          "name": "stdout"
        }
      ]
    },
    {
      "cell_type": "markdown",
      "metadata": {
        "id": "cE2FUOIQ8XfC",
        "colab_type": "text"
      },
      "source": [
        "### Solution 1.3: Run the cell below to check your answer"
      ]
    },
    {
      "cell_type": "code",
      "metadata": {
        "id": "5f2X8J2p8ocS",
        "colab_type": "code",
        "outputId": "336fb444-b503-4d8c-fe59-31d278eb5df2",
        "colab": {
          "base_uri": "https://localhost:8080/",
          "height": 36
        }
      },
      "source": [
        "# DO NOT EDIT THIS CELL\n",
        "# Solution 1.3\n",
        "\n",
        "# Check the variable types\n",
        "assert isinstance(mystring, str), \"Your variable is not a string.\"\n",
        "assert isinstance(myfloat, float), \"Your variable is not a float.\"\n",
        "\n",
        "# Check the conversion to a string\n",
        "assert isinstance(myfloat_str, str), \"Your float hasn't been converted\"\n",
        "\n",
        "# Check the concatenation\n",
        "assert mynewstring == mystring + myfloat_str, \"Check your concatenation.\"\n",
        "\n",
        "print('Your sentence is correct!')"
      ],
      "execution_count": 0,
      "outputs": [
        {
          "output_type": "stream",
          "text": [
            "Your sentence is correct!\n"
          ],
          "name": "stdout"
        }
      ]
    },
    {
      "cell_type": "markdown",
      "metadata": {
        "id": "8EYDz3UtQflV",
        "colab_type": "text"
      },
      "source": [
        "### 1.4 We need to calculate Joey's body mass index. Here's the formula for BMI:  \n",
        "\n",
        ">$\\frac{Weight(kg)}{Height(m)^2} = BMI$  \n",
        "\n",
        "Joey is 1.82 meters tall and weighs 78 kg. Create a variable for his height, weight, and BMI by combining the first two. Store your answer in the variables `height`, `weight`, and `bmi`.\n"
      ]
    },
    {
      "cell_type": "code",
      "metadata": {
        "id": "HOf18kjSQjZM",
        "colab_type": "code",
        "colab": {}
      },
      "source": [
        "height = 1.82\n",
        "weight = 78\n",
        "bmi = weight / height**2"
      ],
      "execution_count": 0,
      "outputs": []
    },
    {
      "cell_type": "markdown",
      "metadata": {
        "id": "EJ25e0GRkAgr",
        "colab_type": "text"
      },
      "source": [
        "### Solution 1.4: Run the cell below to check your solution\n"
      ]
    },
    {
      "cell_type": "code",
      "metadata": {
        "id": "wY4XF3ShkLrp",
        "colab_type": "code",
        "outputId": "337d8517-e4d4-4520-bb32-c15f94eecac5",
        "colab": {
          "base_uri": "https://localhost:8080/",
          "height": 36
        }
      },
      "source": [
        "# DO NOT EDIT THIS CELL\n",
        "# Solution 1.4\n",
        "\n",
        "# Check that the variables exist\n",
        "assert height, 'Missing height' # Why doesn't this assertion message work?\n",
        "assert weight, \"Missing weight\"\n",
        "assert bmi, \"Missing bmi\" \n",
        "\n",
        "# Feedback for common errors\n",
        "if bmi == weight / height:\n",
        "  print(\"Make sure your height variable is squared\")\n",
        "\n",
        "# Check the answer\n",
        "assert bmi == weight / height**2, \"Double check your BMI calculation\"\n",
        "\n",
        "print('Your answer is correct')"
      ],
      "execution_count": 0,
      "outputs": [
        {
          "output_type": "stream",
          "text": [
            "Your answer is correct\n"
          ],
          "name": "stdout"
        }
      ]
    },
    {
      "cell_type": "markdown",
      "metadata": {
        "id": "SV0stA9BUSCn",
        "colab_type": "text"
      },
      "source": [
        "### 1.5 Now calculate Susie's BMI.\n",
        "Susie is 1.63 meters tall and weighs 59 kg. Calculate her BMI by changing the values of the variables you created above for Joey. Make sure to store your variables with the same names you used above."
      ]
    },
    {
      "cell_type": "code",
      "metadata": {
        "id": "FgQ4LB12Uitn",
        "colab_type": "code",
        "colab": {}
      },
      "source": [
        "# Adjust the values of the variables below\n",
        "height = 1.63\n",
        "weight = 59\n",
        "bmi = weight / height**2"
      ],
      "execution_count": 0,
      "outputs": []
    },
    {
      "cell_type": "markdown",
      "metadata": {
        "id": "z1iDo5jtrC3i",
        "colab_type": "text"
      },
      "source": [
        "###Solution 1.5: Run the cell below to check your answer"
      ]
    },
    {
      "cell_type": "code",
      "metadata": {
        "id": "TTkmAtHDrbe7",
        "colab_type": "code",
        "outputId": "7a61fd2a-95ec-4417-fe83-5e45bea10120",
        "colab": {
          "base_uri": "https://localhost:8080/",
          "height": 36
        }
      },
      "source": [
        "# DO NOT EDIT THIS CELL\n",
        "# Solution 1.5\n",
        "\n",
        "# Check for new variable values\n",
        "assert height == 1.63, 'The height is not correct'\n",
        "assert weight == 59, 'The weight is not correct'\n",
        "assert bmi == weight / height**2, 'The BMI was not calculated correctly'\n",
        "\n",
        "print('Your answer is correct!)')"
      ],
      "execution_count": 0,
      "outputs": [
        {
          "output_type": "stream",
          "text": [
            "Your answer is correct!)\n"
          ],
          "name": "stdout"
        }
      ]
    },
    {
      "cell_type": "markdown",
      "metadata": {
        "id": "LvfErOpESot3",
        "colab_type": "text"
      },
      "source": [
        "---\n",
        "## Part 2: Data Types"
      ]
    },
    {
      "cell_type": "markdown",
      "metadata": {
        "id": "1wzfFdmLUQoN",
        "colab_type": "text"
      },
      "source": [
        "### 2.1 Create variables of the following types with the names shown:\n",
        "`var1`: integer\n",
        "\n",
        "`var2`: float\n",
        "\n",
        "`var3`: Boolean\n",
        "\n",
        "`var4`: string"
      ]
    },
    {
      "cell_type": "code",
      "metadata": {
        "id": "UmTGOZqVVt-A",
        "colab_type": "code",
        "colab": {}
      },
      "source": [
        "var1 = 5\n",
        "\n",
        "var2= 5.5\n",
        "\n",
        "var3= True\n",
        "\n",
        "var4= \"I am string 🧵\""
      ],
      "execution_count": 0,
      "outputs": []
    },
    {
      "cell_type": "markdown",
      "metadata": {
        "id": "hTCxdLUsVyau",
        "colab_type": "text"
      },
      "source": [
        "### Solution 2.1: Run the cell below to check your answer."
      ]
    },
    {
      "cell_type": "code",
      "metadata": {
        "id": "vYr1Ft2DaVFY",
        "colab_type": "code",
        "outputId": "9445b2c2-afe5-4c0f-cd43-494448c7ccbe",
        "colab": {
          "base_uri": "https://localhost:8080/",
          "height": 36
        }
      },
      "source": [
        "# DO NOT EDIT THIS CELL\n",
        "# Solution 2.1\n",
        "\n",
        "# Check the variable types \n",
        "assert isinstance(var1, int), \"var1 needs to be an integer.\"\n",
        "assert isinstance(var2, float), \"var2 needs to be a float.\"\n",
        "assert isinstance(var3, bool), \"var3 needs to be a Boolean.\"\n",
        "assert isinstance(var4, str), \"var4 needs to be a string.\"\n",
        "\n",
        "print(\"Your variables are all of the correct type.\")"
      ],
      "execution_count": 0,
      "outputs": [
        {
          "output_type": "stream",
          "text": [
            "Your variables are all of the correct type.\n"
          ],
          "name": "stdout"
        }
      ]
    },
    {
      "cell_type": "markdown",
      "metadata": {
        "id": "hBIomZKgS9Qw",
        "colab_type": "text"
      },
      "source": [
        "### 2.2 How do strings behave differently than integers or floats?\n",
        "\n",
        "Consider how they are added together."
      ]
    },
    {
      "cell_type": "markdown",
      "metadata": {
        "id": "RT5d5gOoTFbV",
        "colab_type": "text"
      },
      "source": [
        "* Write your answer for 2.2 below this line* Your answer should be 1-2 sentences: \n",
        "\n",
        "---\n",
        "Strings are reserved for words and sentences, behavior wise, when we add two strings together they concatenate (\"2\" + \"2\" = 22). When we turn these strings into integers, addition behaves like normal math. (int('2') + int('2') = 4) \n"
      ]
    },
    {
      "cell_type": "markdown",
      "metadata": {
        "id": "jTP3uU1EeRFH",
        "colab_type": "text"
      },
      "source": [
        "### 2.3 Add two Boolen variables together to equal 0 and again to equal 1.\n",
        "\n",
        "Create a variable called `zero` that adds together two boolean values and returns `0`. Create another variable called `one` that adds together two other boolean values and returns `1`."
      ]
    },
    {
      "cell_type": "code",
      "metadata": {
        "id": "biyPIf6ijrdV",
        "colab_type": "code",
        "colab": {}
      },
      "source": [
        "# Create your variables here\n",
        "\n",
        "zero = False + False\n",
        "one = True + False"
      ],
      "execution_count": 0,
      "outputs": []
    },
    {
      "cell_type": "markdown",
      "metadata": {
        "id": "v7PPm9XKkLtb",
        "colab_type": "text"
      },
      "source": [
        "### Solution 2.3: Run the cell below to check your answer."
      ]
    },
    {
      "cell_type": "code",
      "metadata": {
        "id": "X2aqXHMYkJty",
        "colab_type": "code",
        "colab": {}
      },
      "source": [
        "# DO NOT EDIT THIS CELL\n",
        "# Solution 2.3\n",
        "\n",
        "# Check the value of the variables\n",
        "assert zero == 0, \"Your answer should be zero = False + False\"\n",
        "assert one == 1, \"Your answer should be one = True + False or one = False + True\""
      ],
      "execution_count": 0,
      "outputs": []
    },
    {
      "cell_type": "markdown",
      "metadata": {
        "id": "mZHjZtMK08f8",
        "colab_type": "text"
      },
      "source": [
        "### 2.4 Let's create a dictionary!\n",
        "\n",
        "We'll make a dictionary that contains just a few entries. Remember that a Python dictionary consists of key:value pairs. The keys are like the name of the item and the value tells us something about that item.\n",
        "\n",
        "Your dictionary will be have three entries (three keys in this case) and a value for each key. We'll choose types of fruit and how many we have of each. A basic dictionary structure with the name `myfruit` was created for you using the { } - fill in the rest!"
      ]
    },
    {
      "cell_type": "code",
      "metadata": {
        "id": "YRJGWMhjBAUq",
        "colab_type": "code",
        "colab": {}
      },
      "source": [
        "# Create a dictionary \n",
        "# Delete fruit1, fruit2, num1, num2 and then\n",
        "# uncomment and fill in with YOUR VALUES\n",
        "\n",
        "myfruit = {'fruit1': 'mangosteen', 'fruit2': 'Cashew apple', 'fruit3': 'kiwi'}\n",
        "\n"
      ],
      "execution_count": 0,
      "outputs": []
    },
    {
      "cell_type": "markdown",
      "metadata": {
        "id": "3hD4i7q1BySn",
        "colab_type": "text"
      },
      "source": [
        "### Solution 2.4: Run the cell below to check your answer."
      ]
    },
    {
      "cell_type": "code",
      "metadata": {
        "id": "Nt_aT0C3S7Yz",
        "colab_type": "code",
        "outputId": "603579a8-96f4-4064-8836-a0b1d17e5b03",
        "colab": {
          "base_uri": "https://localhost:8080/",
          "height": 36
        }
      },
      "source": [
        "# DO NOT EDIT THIS CELL\n",
        "# Solution 2.4\n",
        "\n",
        "# Verify the dictionary myfruit still exists\n",
        "assert isinstance(myfruit, dict)\n",
        "\n",
        "# Verify the number of entries in the dictionary\n",
        "assert len(myfruit) == 3\n",
        "\n",
        "print(\"Your dictionary is correct!\")"
      ],
      "execution_count": 0,
      "outputs": [
        {
          "output_type": "stream",
          "text": [
            "Your dictionary is correct!\n"
          ],
          "name": "stdout"
        }
      ]
    },
    {
      "cell_type": "markdown",
      "metadata": {
        "id": "qVG_ZZyfTjyB",
        "colab_type": "text"
      },
      "source": [
        "---\n",
        "\n",
        "### Submit your assignment notebook! (Make sure you've changed the name to FIRSTNAME_LASTNAME_assign1): \n",
        "\n",
        "1.  Click the Share button in the upper-right hand corner of the notebook.\n",
        "2.  Get shareable link\n",
        "3.  Set condition to: \"Anyone with the link can comment\"\n",
        "\n",
        "---\n",
        "\n",
        "\n"
      ]
    }
  ]
}