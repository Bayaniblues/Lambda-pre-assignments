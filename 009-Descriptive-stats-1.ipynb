{
  "nbformat": 4,
  "nbformat_minor": 0,
  "metadata": {
    "colab": {
      "name": "Cortez_Ethridge_ASSIGN9.ipynb",
      "provenance": [],
      "collapsed_sections": [],
      "include_colab_link": true
    },
    "kernelspec": {
      "name": "python3",
      "display_name": "Python 3"
    }
  },
  "cells": [
    {
      "cell_type": "markdown",
      "metadata": {
        "id": "view-in-github",
        "colab_type": "text"
      },
      "source": [
        "<a href=\"https://colab.research.google.com/github/Bayaniblues/Lambda-pre-assignments/blob/master/009-Descriptive-stats-1\" target=\"_parent\"><img src=\"https://colab.research.google.com/assets/colab-badge.svg\" alt=\"Open In Colab\"/></a>"
      ]
    },
    {
      "cell_type": "markdown",
      "metadata": {
        "id": "ZvNsvUNNlZbi",
        "colab_type": "text"
      },
      "source": [
        "---\n",
        "# Lambda School Data Science - Intro to Statistics\n",
        "---\n",
        "# Assignment 09 - Descriptive Statistics I\n",
        "---\n",
        "\n"
      ]
    },
    {
      "cell_type": "markdown",
      "metadata": {
        "id": "y8HUQb0OOztX",
        "colab_type": "text"
      },
      "source": [
        "##STOP! BEFORE GOING ANY FURTHER...  \n",
        "\n",
        "\n",
        "1. Click \"File\" at the top.\n",
        "2. Then, \"Save a Copy in Drive.\"\n",
        "3. Change the file name to \"FIRSTNAME_LASTNAME_assign9\"  \n",
        "\n",
        "Now you have a copy of this notebook in your Drive account. This is the copy you'll edit and submit. Be sure to do this for ***every*** assignment!\n",
        "\n",
        "---\n"
      ]
    },
    {
      "cell_type": "markdown",
      "metadata": {
        "id": "xMq6Of2Gt24o",
        "colab_type": "text"
      },
      "source": [
        "### Import Numpy, pandas, and matplotlib\n",
        "\n",
        "Use the standard imports for all of the packages listed below.\n",
        "\n"
      ]
    },
    {
      "cell_type": "code",
      "metadata": {
        "id": "h3r0IvHVuGJb",
        "colab_type": "code",
        "colab": {}
      },
      "source": [
        "# Import numpy, pandas, and matplotlib\n",
        "import numpy as np\n",
        "import pandas as pd\n",
        "import matplotlib.pyplot as plt"
      ],
      "execution_count": 0,
      "outputs": []
    },
    {
      "cell_type": "markdown",
      "metadata": {
        "id": "DvYie7qokbDH",
        "colab_type": "text"
      },
      "source": [
        "### Import the data in the CSV file\n",
        "Today you'll be working with the tips dataset used in lecture. You can find the data [here](https://raw.githubusercontent.com/axrd/datasets/master/tipdata.csv). Be careful not to import an extra index column! See the lecture notebook for a workaround. Hint: use the `index_col` argument."
      ]
    },
    {
      "cell_type": "code",
      "metadata": {
        "id": "UNJo_50VktRs",
        "colab_type": "code",
        "colab": {}
      },
      "source": [
        "# Read in the dataset\n",
        "df = pd.read_csv('https://raw.githubusercontent.com/axrd/datasets/master/tipdata.csv',index_col=0)\n"
      ],
      "execution_count": 0,
      "outputs": []
    },
    {
      "cell_type": "markdown",
      "metadata": {
        "id": "CYy4Zp5pk7tS",
        "colab_type": "text"
      },
      "source": [
        "### Look at the data!\n",
        "\n",
        "We'll look at a few more rows than the default from `df.head()`"
      ]
    },
    {
      "cell_type": "code",
      "metadata": {
        "id": "lIxLoTfGl910",
        "colab_type": "code",
        "outputId": "b651dd4f-7472-43fa-853e-9c3514d1487d",
        "colab": {
          "base_uri": "https://localhost:8080/",
          "height": 197
        }
      },
      "source": [
        "# Print out the first 10 rows\n",
        "df.head()\n"
      ],
      "execution_count": 0,
      "outputs": [
        {
          "output_type": "execute_result",
          "data": {
            "text/html": [
              "<div>\n",
              "<style scoped>\n",
              "    .dataframe tbody tr th:only-of-type {\n",
              "        vertical-align: middle;\n",
              "    }\n",
              "\n",
              "    .dataframe tbody tr th {\n",
              "        vertical-align: top;\n",
              "    }\n",
              "\n",
              "    .dataframe thead th {\n",
              "        text-align: right;\n",
              "    }\n",
              "</style>\n",
              "<table border=\"1\" class=\"dataframe\">\n",
              "  <thead>\n",
              "    <tr style=\"text-align: right;\">\n",
              "      <th></th>\n",
              "      <th>total_bill</th>\n",
              "      <th>tip</th>\n",
              "      <th>sex</th>\n",
              "      <th>smoker</th>\n",
              "      <th>day</th>\n",
              "      <th>time</th>\n",
              "      <th>size</th>\n",
              "    </tr>\n",
              "  </thead>\n",
              "  <tbody>\n",
              "    <tr>\n",
              "      <th>0</th>\n",
              "      <td>16.99</td>\n",
              "      <td>1.01</td>\n",
              "      <td>Female</td>\n",
              "      <td>No</td>\n",
              "      <td>Sun</td>\n",
              "      <td>Dinner</td>\n",
              "      <td>2</td>\n",
              "    </tr>\n",
              "    <tr>\n",
              "      <th>1</th>\n",
              "      <td>10.34</td>\n",
              "      <td>1.66</td>\n",
              "      <td>Male</td>\n",
              "      <td>No</td>\n",
              "      <td>Sun</td>\n",
              "      <td>Dinner</td>\n",
              "      <td>3</td>\n",
              "    </tr>\n",
              "    <tr>\n",
              "      <th>2</th>\n",
              "      <td>21.01</td>\n",
              "      <td>3.50</td>\n",
              "      <td>Male</td>\n",
              "      <td>No</td>\n",
              "      <td>Sun</td>\n",
              "      <td>Dinner</td>\n",
              "      <td>3</td>\n",
              "    </tr>\n",
              "    <tr>\n",
              "      <th>3</th>\n",
              "      <td>23.68</td>\n",
              "      <td>3.31</td>\n",
              "      <td>Male</td>\n",
              "      <td>No</td>\n",
              "      <td>Sun</td>\n",
              "      <td>Dinner</td>\n",
              "      <td>2</td>\n",
              "    </tr>\n",
              "    <tr>\n",
              "      <th>4</th>\n",
              "      <td>24.59</td>\n",
              "      <td>3.61</td>\n",
              "      <td>Female</td>\n",
              "      <td>No</td>\n",
              "      <td>Sun</td>\n",
              "      <td>Dinner</td>\n",
              "      <td>4</td>\n",
              "    </tr>\n",
              "  </tbody>\n",
              "</table>\n",
              "</div>"
            ],
            "text/plain": [
              "   total_bill   tip     sex smoker  day    time  size\n",
              "0       16.99  1.01  Female     No  Sun  Dinner     2\n",
              "1       10.34  1.66    Male     No  Sun  Dinner     3\n",
              "2       21.01  3.50    Male     No  Sun  Dinner     3\n",
              "3       23.68  3.31    Male     No  Sun  Dinner     2\n",
              "4       24.59  3.61  Female     No  Sun  Dinner     4"
            ]
          },
          "metadata": {
            "tags": []
          },
          "execution_count": 5
        }
      ]
    },
    {
      "cell_type": "markdown",
      "metadata": {
        "id": "125CV0jpQ5vT",
        "colab_type": "text"
      },
      "source": [
        "### Look at the last rows of your DataFrame"
      ]
    },
    {
      "cell_type": "code",
      "metadata": {
        "id": "lMafok6zoGB-",
        "colab_type": "code",
        "outputId": "9025335a-0a8a-4656-d980-43574f3b0ede",
        "colab": {
          "base_uri": "https://localhost:8080/",
          "height": 197
        }
      },
      "source": [
        "# Print out the last 10 rows\n",
        "df.tail()\n"
      ],
      "execution_count": 0,
      "outputs": [
        {
          "output_type": "execute_result",
          "data": {
            "text/html": [
              "<div>\n",
              "<style scoped>\n",
              "    .dataframe tbody tr th:only-of-type {\n",
              "        vertical-align: middle;\n",
              "    }\n",
              "\n",
              "    .dataframe tbody tr th {\n",
              "        vertical-align: top;\n",
              "    }\n",
              "\n",
              "    .dataframe thead th {\n",
              "        text-align: right;\n",
              "    }\n",
              "</style>\n",
              "<table border=\"1\" class=\"dataframe\">\n",
              "  <thead>\n",
              "    <tr style=\"text-align: right;\">\n",
              "      <th></th>\n",
              "      <th>total_bill</th>\n",
              "      <th>tip</th>\n",
              "      <th>sex</th>\n",
              "      <th>smoker</th>\n",
              "      <th>day</th>\n",
              "      <th>time</th>\n",
              "      <th>size</th>\n",
              "    </tr>\n",
              "  </thead>\n",
              "  <tbody>\n",
              "    <tr>\n",
              "      <th>239</th>\n",
              "      <td>29.03</td>\n",
              "      <td>5.92</td>\n",
              "      <td>Male</td>\n",
              "      <td>No</td>\n",
              "      <td>Sat</td>\n",
              "      <td>Dinner</td>\n",
              "      <td>3</td>\n",
              "    </tr>\n",
              "    <tr>\n",
              "      <th>240</th>\n",
              "      <td>27.18</td>\n",
              "      <td>2.00</td>\n",
              "      <td>Female</td>\n",
              "      <td>Yes</td>\n",
              "      <td>Sat</td>\n",
              "      <td>Dinner</td>\n",
              "      <td>2</td>\n",
              "    </tr>\n",
              "    <tr>\n",
              "      <th>241</th>\n",
              "      <td>22.67</td>\n",
              "      <td>2.00</td>\n",
              "      <td>Male</td>\n",
              "      <td>Yes</td>\n",
              "      <td>Sat</td>\n",
              "      <td>Dinner</td>\n",
              "      <td>2</td>\n",
              "    </tr>\n",
              "    <tr>\n",
              "      <th>242</th>\n",
              "      <td>17.82</td>\n",
              "      <td>1.75</td>\n",
              "      <td>Male</td>\n",
              "      <td>No</td>\n",
              "      <td>Sat</td>\n",
              "      <td>Dinner</td>\n",
              "      <td>2</td>\n",
              "    </tr>\n",
              "    <tr>\n",
              "      <th>243</th>\n",
              "      <td>18.78</td>\n",
              "      <td>3.00</td>\n",
              "      <td>Female</td>\n",
              "      <td>No</td>\n",
              "      <td>Thur</td>\n",
              "      <td>Dinner</td>\n",
              "      <td>2</td>\n",
              "    </tr>\n",
              "  </tbody>\n",
              "</table>\n",
              "</div>"
            ],
            "text/plain": [
              "     total_bill   tip     sex smoker   day    time  size\n",
              "239       29.03  5.92    Male     No   Sat  Dinner     3\n",
              "240       27.18  2.00  Female    Yes   Sat  Dinner     2\n",
              "241       22.67  2.00    Male    Yes   Sat  Dinner     2\n",
              "242       17.82  1.75    Male     No   Sat  Dinner     2\n",
              "243       18.78  3.00  Female     No  Thur  Dinner     2"
            ]
          },
          "metadata": {
            "tags": []
          },
          "execution_count": 6
        }
      ]
    },
    {
      "cell_type": "markdown",
      "metadata": {
        "id": "CfUYIGiuQ-o0",
        "colab_type": "text"
      },
      "source": [
        "### What is the shape of the DataFrame?"
      ]
    },
    {
      "cell_type": "code",
      "metadata": {
        "id": "hQGGcDNYQ-_b",
        "colab_type": "code",
        "outputId": "74016dba-b80c-4f63-9637-3a1b2fbf9375",
        "colab": {
          "base_uri": "https://localhost:8080/",
          "height": 34
        }
      },
      "source": [
        "# Determine the shape of the DataFrame\n",
        "df.shape\n"
      ],
      "execution_count": 0,
      "outputs": [
        {
          "output_type": "execute_result",
          "data": {
            "text/plain": [
              "(244, 7)"
            ]
          },
          "metadata": {
            "tags": []
          },
          "execution_count": 7
        }
      ]
    },
    {
      "cell_type": "markdown",
      "metadata": {
        "id": "7ecnTkAIQ_MW",
        "colab_type": "text"
      },
      "source": [
        "### What is the data type of each column/feature?\n",
        "\n",
        "Remember to use those handy pandas methods on the whole DataFrame."
      ]
    },
    {
      "cell_type": "code",
      "metadata": {
        "id": "_1U2esBGQ_XF",
        "colab_type": "code",
        "outputId": "3536ba18-9fe3-4dd5-b7ab-f7b4ead972e8",
        "colab": {
          "base_uri": "https://localhost:8080/",
          "height": 153
        }
      },
      "source": [
        "# Display data type of each column\n",
        "df.dtypes\n"
      ],
      "execution_count": 0,
      "outputs": [
        {
          "output_type": "execute_result",
          "data": {
            "text/plain": [
              "total_bill    float64\n",
              "tip           float64\n",
              "sex            object\n",
              "smoker         object\n",
              "day            object\n",
              "time           object\n",
              "size            int64\n",
              "dtype: object"
            ]
          },
          "metadata": {
            "tags": []
          },
          "execution_count": 10
        }
      ]
    },
    {
      "cell_type": "markdown",
      "metadata": {
        "id": "zSi247Ll_eDr",
        "colab_type": "text"
      },
      "source": [
        "### Are there any missing values?\n",
        "\n",
        "Yes, we're looking at missing values again. It's an important part of cleaning our data, especially so that any statistical analysis isn't affected by NaNs and zeroes."
      ]
    },
    {
      "cell_type": "code",
      "metadata": {
        "id": "K0E0ESQa_eN7",
        "colab_type": "code",
        "outputId": "a3480c49-bdf2-405a-9707-5c1e9f943b5d",
        "colab": {
          "base_uri": "https://localhost:8080/",
          "height": 48
        }
      },
      "source": [
        "# Check for missing values\n",
        "df[df.isnull().any(axis=1)]\n",
        "\n"
      ],
      "execution_count": 0,
      "outputs": [
        {
          "output_type": "execute_result",
          "data": {
            "text/html": [
              "<div>\n",
              "<style scoped>\n",
              "    .dataframe tbody tr th:only-of-type {\n",
              "        vertical-align: middle;\n",
              "    }\n",
              "\n",
              "    .dataframe tbody tr th {\n",
              "        vertical-align: top;\n",
              "    }\n",
              "\n",
              "    .dataframe thead th {\n",
              "        text-align: right;\n",
              "    }\n",
              "</style>\n",
              "<table border=\"1\" class=\"dataframe\">\n",
              "  <thead>\n",
              "    <tr style=\"text-align: right;\">\n",
              "      <th></th>\n",
              "      <th>total_bill</th>\n",
              "      <th>tip</th>\n",
              "      <th>sex</th>\n",
              "      <th>smoker</th>\n",
              "      <th>day</th>\n",
              "      <th>time</th>\n",
              "      <th>size</th>\n",
              "    </tr>\n",
              "  </thead>\n",
              "  <tbody>\n",
              "  </tbody>\n",
              "</table>\n",
              "</div>"
            ],
            "text/plain": [
              "Empty DataFrame\n",
              "Columns: [total_bill, tip, sex, smoker, day, time, size]\n",
              "Index: []"
            ]
          },
          "metadata": {
            "tags": []
          },
          "execution_count": 11
        }
      ]
    },
    {
      "cell_type": "markdown",
      "metadata": {
        "id": "p52saiQGbeMq",
        "colab_type": "text"
      },
      "source": [
        "### What is the average total bill? \n",
        "\n",
        "Let's look at the mean, median, and mode for the total bill data. There are a few different ways to look at these statistics but an easy one is to use the pandas `describe` method, which will give you the mean and median (50%) values. To get the mode, you'll have to use the pandas `mode()` method.\n",
        "\n",
        "You can also use the `np.mean()` and `np.median()` methods as shown in lecture."
      ]
    },
    {
      "cell_type": "code",
      "metadata": {
        "id": "5cWuMltDbkCX",
        "colab_type": "code",
        "outputId": "ff21c007-6437-4872-ff5e-9c2adb07f764",
        "colab": {
          "base_uri": "https://localhost:8080/",
          "height": 85
        }
      },
      "source": [
        "# Calculate and print the mean, median, and mode\n",
        "bill = df['total_bill']\n",
        "meanbill =np.mean(bill)\n",
        "medianbill = np.median(bill)\n",
        "modebill = df.mode()\n",
        "print(meanbill)\n",
        "print(medianbill)\n",
        "print(modebill)\n"
      ],
      "execution_count": 0,
      "outputs": [
        {
          "output_type": "stream",
          "text": [
            "19.785942622950824\n",
            "17.795\n",
            "   total_bill  tip   sex smoker  day    time  size\n",
            "0       13.42  2.0  Male     No  Sat  Dinner     2\n"
          ],
          "name": "stdout"
        }
      ]
    },
    {
      "cell_type": "markdown",
      "metadata": {
        "id": "NJDTE8jttykF",
        "colab_type": "text"
      },
      "source": [
        "### Quiz time!\n",
        "\n",
        "Answer the following questions about your data and then run the next cell (below) to check your answers. When entering you answers, round them to the hundredths place (e.g 5.32 or 9.40)"
      ]
    },
    {
      "cell_type": "code",
      "metadata": {
        "id": "VSn7VbvUt8RW",
        "colab_type": "code",
        "outputId": "4bda0468-7ff9-4ccf-e74b-477364db5de4",
        "colab": {
          "base_uri": "https://localhost:8080/",
          "height": 119
        }
      },
      "source": [
        "# Quiz question (do not edit this cell)\n",
        "print(\"What is the mean value of total_bill?\")\n",
        "totbill_mean = input()\n",
        "\n",
        "print(\"What is the median value of total_bill?\")\n",
        "totbill_median = input()\n",
        "\n",
        "print(\"What is the value of the mode of total_bill?\")\n",
        "totbill_mode = input()"
      ],
      "execution_count": 0,
      "outputs": [
        {
          "output_type": "stream",
          "text": [
            "What is the mean value of total_bill?\n",
            "19.785942622950824\n",
            "What is the median value of total_bill?\n",
            "17.795\n",
            "What is the value of the mode of total_bill?\n",
            "13.42  \n"
          ],
          "name": "stdout"
        }
      ]
    },
    {
      "cell_type": "markdown",
      "metadata": {
        "id": "kIAVqhOOt88_",
        "colab_type": "text"
      },
      "source": [
        "### Solution: Run the following cell to check the answers to the quiz."
      ]
    },
    {
      "cell_type": "code",
      "metadata": {
        "id": "jYYxQR0avsOv",
        "colab_type": "code",
        "colab": {}
      },
      "source": [
        "# DO NOT EDIT THIS CELL\n",
        "# Run the cell to check your answers\n",
        "\n",
        "# Check the quiz answers\n",
        "assert round(float(totbill_mean), 2)==19.79, \"Your value for the mean is incorrect.\"\n",
        "assert round(float(totbill_median), 2)==17.80, \"Your value for the median is incorrect.\"\n",
        "assert round(float(totbill_mode), 2)==13.42, \"Your value for the mode is incorrect.\""
      ],
      "execution_count": 0,
      "outputs": []
    },
    {
      "cell_type": "markdown",
      "metadata": {
        "id": "Y7arWL1sblgY",
        "colab_type": "text"
      },
      "source": [
        "### Question time!\n",
        "\n",
        "Which of the three do you think best represents the data? Why?\n",
        "\n",
        "\n",
        "---\n",
        "\n"
      ]
    },
    {
      "cell_type": "markdown",
      "metadata": {
        "id": "EoyHH2vaLtJv",
        "colab_type": "text"
      },
      "source": [
        "If I was a waitress at this restaurant I think that the Mode would be the most valuable information to me becuase The Mode can tell us what sells with the most frequency and what I should do to sell whats popular and upsell more product.\n",
        "\n",
        "That is if I had the data on the dishes.\n",
        "\n",
        "Otherwise, if I was the owner then the mean would be most useful for a birdeye's view, to find a moving average so we can look at our yearly performance and project future profits."
      ]
    },
    {
      "cell_type": "markdown",
      "metadata": {
        "id": "SNDL-Ms3L25T",
        "colab_type": "text"
      },
      "source": [
        "### Visualize the distribution\n",
        "\n",
        "Create a plot of the \"tips\" column. Recall from lecture that a histogram is a good type of plot to use to get an idea of the distribution.\n",
        "\n",
        "Now, describe the distribution: the skew (positive or negative?), the kurtosis (the \"pointiness\"), etc."
      ]
    },
    {
      "cell_type": "code",
      "metadata": {
        "id": "WCynysVNL8ba",
        "colab_type": "code",
        "outputId": "9d857631-f980-4f90-f7ad-9882ba0a1b5a",
        "colab": {
          "base_uri": "https://localhost:8080/",
          "height": 264
        }
      },
      "source": [
        "# Create a plot\n",
        "\n",
        "df['tip'].hist(bins=40);\n"
      ],
      "execution_count": 0,
      "outputs": [
        {
          "output_type": "display_data",
          "data": {
            "image/png": "[encoded data removed]",
            "text/plain": [
              "<Figure size 432x288 with 1 Axes>"
            ]
          },
          "metadata": {
            "tags": [],
            "needs_background": "light"
          }
        }
      ]
    },
    {
      "cell_type": "markdown",
      "metadata": {
        "id": "8ejnWfFvXv0U",
        "colab_type": "text"
      },
      "source": [
        "Describe the distribution below:\n",
        "\n",
        "The Tips are on a positive skew"
      ]
    },
    {
      "cell_type": "markdown",
      "metadata": {
        "id": "ajdBc0TCL86s",
        "colab_type": "text"
      },
      "source": [
        "### What is the range of tips? "
      ]
    },
    {
      "cell_type": "code",
      "metadata": {
        "id": "vNws523YMZjV",
        "colab_type": "code",
        "outputId": "332e3662-e9c5-48ff-a76a-3102d3682d40",
        "colab": {
          "base_uri": "https://localhost:8080/",
          "height": 34
        }
      },
      "source": [
        "# Print out the range of the tips (the different between the min and max)\n",
        "\n",
        "range_tips = df['tip'].max() - df['tip'].min()\n",
        "\n",
        "print(range_tips)"
      ],
      "execution_count": 0,
      "outputs": [
        {
          "output_type": "stream",
          "text": [
            "9.0\n"
          ],
          "name": "stdout"
        }
      ]
    },
    {
      "cell_type": "markdown",
      "metadata": {
        "id": "KnDjAUCMVHSU",
        "colab_type": "text"
      },
      "source": [
        "### Quiz time! \n",
        "\n",
        "Run the following cell and answer the question."
      ]
    },
    {
      "cell_type": "code",
      "metadata": {
        "id": "VlrlBSlu3cev",
        "colab_type": "code",
        "outputId": "91fa50ca-c8ad-4dcb-f673-147d9e5227d1",
        "colab": {
          "base_uri": "https://localhost:8080/",
          "height": 51
        }
      },
      "source": [
        "# Quiz question (do not edit this cell)\n",
        "print(\"What is the range of tips? (think max - min)\")\n",
        "tip_range = input()"
      ],
      "execution_count": 0,
      "outputs": [
        {
          "output_type": "stream",
          "text": [
            "What is the range of tips? (think max - min)\n",
            "9\n"
          ],
          "name": "stdout"
        }
      ]
    },
    {
      "cell_type": "code",
      "metadata": {
        "id": "3F5Kf7K13snT",
        "colab_type": "code",
        "colab": {}
      },
      "source": [
        "# DO NOT EDIT THIS CELL\n",
        "# Run the cell to check your answers\n",
        "\n",
        "# Check the answer\n",
        "assert round(float(tip_range))==9, \"Your tip range answer is incorrect.\""
      ],
      "execution_count": 0,
      "outputs": []
    },
    {
      "cell_type": "markdown",
      "metadata": {
        "id": "bDKWckVmMZwF",
        "colab_type": "text"
      },
      "source": [
        "### Create a boxplot for the tips variable. \n",
        "\n",
        "See Lecture 08 (*Basic Visualizations*) to review how to create a boxplot."
      ]
    },
    {
      "cell_type": "code",
      "metadata": {
        "id": "Vji0RfScMZ3V",
        "colab_type": "code",
        "outputId": "435f4ddb-56ad-422a-d5ec-af10b52bbcd9",
        "colab": {
          "base_uri": "https://localhost:8080/",
          "height": 300
        }
      },
      "source": [
        "# Create your box plot\n",
        "\n",
        "df.boxplot(column='tip', by='day')\n",
        "plt.show()\n"
      ],
      "execution_count": 0,
      "outputs": [
        {
          "output_type": "display_data",
          "data": {
            "image/png": "[encoded data removed]",
            "text/plain": [
              "<Figure size 432x288 with 1 Axes>"
            ]
          },
          "metadata": {
            "tags": [],
            "needs_background": "light"
          }
        }
      ]
    },
    {
      "cell_type": "markdown",
      "metadata": {
        "id": "hwDMcaJqMaAV",
        "colab_type": "text"
      },
      "source": [
        "### What was the most common day?\n",
        "\n",
        "Determine which day was the most common day for leaving a tip. Remember that you can use `value_counts()` to sum over the unique values for a column.\n"
      ]
    },
    {
      "cell_type": "code",
      "metadata": {
        "id": "80QNJNJVMaHu",
        "colab_type": "code",
        "outputId": "5a80bfeb-b138-4030-ffe3-61a7c7949ade",
        "colab": {
          "base_uri": "https://localhost:8080/",
          "height": 102
        }
      },
      "source": [
        "# Find the most common day for leaving tips\n",
        "\n",
        "df['day'].value_counts()\n",
        "# common day was 87"
      ],
      "execution_count": 0,
      "outputs": [
        {
          "output_type": "execute_result",
          "data": {
            "text/plain": [
              "Sat     87\n",
              "Sun     76\n",
              "Thur    62\n",
              "Fri     19\n",
              "Name: day, dtype: int64"
            ]
          },
          "metadata": {
            "tags": []
          },
          "execution_count": 47
        }
      ]
    },
    {
      "cell_type": "markdown",
      "metadata": {
        "id": "1w3u4EGLeCJ1",
        "colab_type": "text"
      },
      "source": [
        "### Quiz time! \n",
        "\n",
        "Run the following cell and answer the questions."
      ]
    },
    {
      "cell_type": "code",
      "metadata": {
        "id": "XfyDq9aTeOji",
        "colab_type": "code",
        "outputId": "82b8dc26-8c0f-482e-8f37-ec1d5de64ec1",
        "colab": {
          "base_uri": "https://localhost:8080/",
          "height": 85
        }
      },
      "source": [
        "# Quiz question (do not edit this cell)\n",
        "print(\"Which day had the most tips? Enter the name as shown above (e.g. Thur, Fri)\")\n",
        "most_tips = input()\n",
        "\n",
        "print(\"Which day had the fewest tips? Enter the name as shown above (e.g. Thur, Fri)\")\n",
        "few_tips = input()"
      ],
      "execution_count": 0,
      "outputs": [
        {
          "output_type": "stream",
          "text": [
            "Which day had the most tips? Enter the name as shown above (e.g. Thur, Fri)\n",
            "Sat\n",
            "Which day had the fewest tips? Enter the name as shown above (e.g. Thur, Fri)\n",
            "Fri\n"
          ],
          "name": "stdout"
        }
      ]
    },
    {
      "cell_type": "markdown",
      "metadata": {
        "id": "j-2aQ-tLfSdV",
        "colab_type": "text"
      },
      "source": [
        "### Solution: Quiz\n",
        "\n",
        "Run the following cell to check the answers to the questions above."
      ]
    },
    {
      "cell_type": "code",
      "metadata": {
        "id": "JNu8xnTBfksK",
        "colab_type": "code",
        "colab": {}
      },
      "source": [
        "# DO NOT EDIT THIS CELL\n",
        "# Run the cell to check your answers\n",
        "\n",
        "# Quiz answer check\n",
        "assert most_tips=='Sat', \"Sat is the day with the most tips.\"\n",
        "assert few_tips=='Fri', \"Fri is the day with the fewest tips.\""
      ],
      "execution_count": 0,
      "outputs": []
    },
    {
      "cell_type": "markdown",
      "metadata": {
        "id": "Ug-Gt5uh_K-I",
        "colab_type": "text"
      },
      "source": [
        "### What is the standard deviation of \"tips\"?\n",
        "\n",
        "Remember the standard deviation is a measure of the spread of the data around the mean. The greater the standard deviation, the bigger the range of values the data has."
      ]
    },
    {
      "cell_type": "code",
      "metadata": {
        "id": "zGDobfGz_Qzd",
        "colab_type": "code",
        "outputId": "2e6574a0-7787-4608-d165-c398630d2f4c",
        "colab": {
          "base_uri": "https://localhost:8080/",
          "height": 34
        }
      },
      "source": [
        "# Calculate the standard deviation of tips\n",
        "\n",
        "df['tip'].std()"
      ],
      "execution_count": 0,
      "outputs": [
        {
          "output_type": "execute_result",
          "data": {
            "text/plain": [
              "1.3836381890011826"
            ]
          },
          "metadata": {
            "tags": []
          },
          "execution_count": 52
        }
      ]
    },
    {
      "cell_type": "markdown",
      "metadata": {
        "id": "UNOb5Wh3_REX",
        "colab_type": "text"
      },
      "source": [
        "### What is the variance of \"total_bill\"?"
      ]
    },
    {
      "cell_type": "code",
      "metadata": {
        "id": "TAkbMl9T_RPd",
        "colab_type": "code",
        "outputId": "2265fef3-baa0-433a-eacf-b290a2b00f6d",
        "colab": {
          "base_uri": "https://localhost:8080/",
          "height": 34
        }
      },
      "source": [
        "# Calculate the variance of total bill\n",
        "\n",
        "df['total_bill'].var()"
      ],
      "execution_count": 0,
      "outputs": [
        {
          "output_type": "execute_result",
          "data": {
            "text/plain": [
              "79.25293861397826"
            ]
          },
          "metadata": {
            "tags": []
          },
          "execution_count": 53
        }
      ]
    },
    {
      "cell_type": "markdown",
      "metadata": {
        "id": "D3B3Z8GvcY4Q",
        "colab_type": "text"
      },
      "source": [
        "### Submit your assignment notebook! (Make sure you've changed the name to FIRSTNAME_LASTNAME_assign9): \n",
        "\n",
        "1.  Click the Share button in the upper-right hand corner of the notebook.\n",
        "2.  Get the shareable link.\n",
        "3.  Set condition to: \"Anyone with the link can comment.\"\n",
        "\n",
        "---\n",
        "\n",
        "The question below is _optional_. Only tackle it after you've completed the rest of the assignment!"
      ]
    },
    {
      "cell_type": "markdown",
      "metadata": {
        "id": "m69ItJKqb7bh",
        "colab_type": "text"
      },
      "source": [
        "### STRETCH: Visualize all the numeric features and describe their distributions.\n",
        "\n",
        "Give this task a try! The more you practice with statistics, distributions, and plotting, the more you will know going into the Data Science course."
      ]
    }
  ]
}